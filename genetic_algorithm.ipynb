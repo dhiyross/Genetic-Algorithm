{
  "cells": [
    {
      "cell_type": "markdown",
      "id": "6167c4e2-ca7b-42eb-aeca-6a89627a8535",
      "metadata": {
        "id": "6167c4e2-ca7b-42eb-aeca-6a89627a8535"
      },
      "source": [
        "# Example Genetic Algorithm"
      ]
    },
    {
      "cell_type": "markdown",
      "id": "e715b771-0301-4c0c-b984-e5441178470e",
      "metadata": {
        "id": "e715b771-0301-4c0c-b984-e5441178470e"
      },
      "source": [
        "Taken from https://machinelearningmastery.com/simple-genetic-algorithm-from-scratch-in-python/"
      ]
    },
    {
      "cell_type": "markdown",
      "id": "df2ebcae-e56a-4042-9fe6-c21aaf3a03d0",
      "metadata": {
        "id": "df2ebcae-e56a-4042-9fe6-c21aaf3a03d0"
      },
      "source": [
        "## Binary optimization"
      ]
    },
    {
      "cell_type": "code",
      "execution_count": null,
      "id": "63993034-6835-46c5-bcdf-778357c2e640",
      "metadata": {
        "id": "63993034-6835-46c5-bcdf-778357c2e640",
        "outputId": "81d18487-f3c0-4cac-ed3f-fa0e91cca85f",
        "colab": {
          "base_uri": "https://localhost:8080/"
        }
      },
      "outputs": [
        {
          "output_type": "stream",
          "name": "stdout",
          "text": [
            ">0, new best f([1, 1, 0, 0, 0, 1, 0, 1, 1, 0, 0, 0, 1, 0, 0, 1, 1, 0, 0, 0]) = -14.000\n",
            ">1, new best f([1, 1, 0, 0, 1, 1, 0, 0, 0, 1, 1, 1, 1, 0, 0, 0, 0, 0, 1, 1]) = -16.000\n",
            ">1, new best f([1, 1, 0, 0, 0, 1, 0, 1, 1, 0, 0, 1, 1, 0, 1, 0, 1, 1, 0, 1]) = -17.000\n",
            ">2, new best f([1, 0, 0, 0, 0, 1, 0, 0, 0, 0, 0, 1, 1, 0, 1, 0, 0, 1, 1, 1]) = -18.000\n",
            ">3, new best f([1, 1, 0, 0, 1, 1, 0, 0, 1, 1, 1, 1, 1, 0, 1, 1, 0, 0, 1, 1]) = -19.000\n",
            ">4, new best f([1, 0, 0, 0, 1, 1, 0, 0, 1, 1, 1, 0, 1, 0, 1, 0, 0, 1, 1, 1]) = -21.000\n",
            ">4, new best f([1, 0, 0, 0, 0, 1, 1, 1, 1, 1, 1, 1, 1, 0, 1, 0, 0, 0, 1, 1]) = -22.000\n",
            ">5, new best f([1, 0, 0, 0, 0, 1, 1, 1, 1, 1, 1, 1, 1, 0, 1, 0, 0, 1, 1, 1]) = -23.000\n",
            ">8, new best f([1, 0, 0, 0, 1, 1, 1, 1, 0, 1, 1, 1, 1, 0, 1, 1, 0, 1, 1, 1]) = -24.000\n",
            ">9, new best f([1, 0, 0, 0, 1, 1, 1, 1, 1, 1, 1, 1, 1, 0, 0, 1, 1, 1, 1, 1]) = -25.000\n",
            ">12, new best f([1, 0, 0, 0, 1, 1, 1, 1, 1, 1, 1, 1, 1, 0, 1, 1, 1, 1, 1, 1]) = -26.000\n",
            "Done!\n",
            "f([1, 0, 0, 0, 1, 1, 1, 1, 1, 1, 1, 1, 1, 0, 1, 1, 1, 1, 1, 1]) = -26.000000\n"
          ]
        }
      ],
      "source": [
        "# genetic algorithm search of the one max optimization problem\n",
        "import numpy as np\n",
        "from numpy.random import randint\n",
        "from numpy.random import rand\n",
        "\n",
        "# objective function\n",
        "def onemax(x):\n",
        "    score_ = np.array([-1,3,10,4,-1,-5,-1,-1,-1,-1,-1,-1,-7,3,-1,-1,-1,-1,-1,-1])\n",
        "    # run powerflow\n",
        "    # check drop\n",
        "    if sum(x[1:4]) == 3:\n",
        "        return 1\n",
        "    else:\n",
        "        return np.dot(x,score_)\n",
        "\n",
        "# tournament selection\n",
        "def selection(pop, scores, k=3):\n",
        "    # first random selection\n",
        "    selection_ix = randint(len(pop))\n",
        "    for ix in randint(0, len(pop), k-1):\n",
        "        # check if better (e.g. perform a tournament)\n",
        "        if scores[ix] < scores[selection_ix]:\n",
        "            selection_ix = ix\n",
        "    return pop[selection_ix]\n",
        "\n",
        "# crossover two parents to create two children\n",
        "def crossover(p1, p2, r_cross):\n",
        "    # children are copies of parents by default\n",
        "    c1, c2 = p1.copy(), p2.copy()\n",
        "    # check for recombination\n",
        "    if rand() < r_cross:\n",
        "        # select crossover point that is not on the end of the string\n",
        "        pt = randint(1, len(p1)-2)\n",
        "        # perform crossover\n",
        "        c1 = p1[:pt] + p2[pt:]\n",
        "        c2 = p2[:pt] + p1[pt:]\n",
        "    return [c1, c2]\n",
        "\n",
        "# mutation operator\n",
        "def mutation(bitstring, r_mut):\n",
        "    for i in range(len(bitstring)):\n",
        "        # check for a mutation\n",
        "        if rand() < r_mut:\n",
        "            # flip the bit\n",
        "            bitstring[i] = 1 - bitstring[i]\n",
        "\n",
        "# genetic algorithm\n",
        "def genetic_algorithm(objective, n_bits, n_iter, n_pop, r_cross, r_mut):\n",
        "    # initial population of random bitstring\n",
        "    pop = [randint(0, 2, n_bits).tolist() for _ in range(n_pop)] # random 0 or 1, length = n_bits, total n_pop set\n",
        "    # keep track of best solution\n",
        "    best, best_eval = 0, objective(pop[0]) # initial best, could be skipped and default value can be entered\n",
        "    # enumerate generations\n",
        "    for gen in range(n_iter): # main loop\n",
        "        # evaluate all candidates in the population\n",
        "        scores = [objective(c) for c in pop] # evaluation to be used for selection\n",
        "        # check for new best solution\n",
        "        for i in range(n_pop):\n",
        "            if scores[i] < best_eval:\n",
        "                best, best_eval = pop[i], scores[i]\n",
        "                print(\">%d, new best f(%s) = %.3f\" % (gen,  pop[i], scores[i]))\n",
        "        # select parents\n",
        "        selected = [selection(pop, scores) for _ in range(n_pop)] # in some approach, you can make previous best solution always survive to next gen\n",
        "        # create the next generation\n",
        "        children = list()\n",
        "        for i in range(0, n_pop, 2):\n",
        "            # get selected parents in pairs\n",
        "            p1, p2 = selected[i], selected[i+1]\n",
        "            # crossover and mutation\n",
        "            for c in crossover(p1, p2, r_cross):\n",
        "                # mutation\n",
        "                mutation(c, r_mut)\n",
        "                # store for next generation\n",
        "                children.append(c)\n",
        "        # replace population\n",
        "        pop = children\n",
        "    return [best, best_eval]\n",
        "\n",
        "# define the total iterations\n",
        "n_iter = 25\n",
        "# bits\n",
        "n_bits = 20\n",
        "# define the population size\n",
        "n_pop = 50\n",
        "# crossover rate\n",
        "r_cross = 0.9\n",
        "# mutation rate\n",
        "r_mut = 1.0 / float(n_bits)\n",
        "# perform the genetic algorithm search\n",
        "best, score = genetic_algorithm(onemax, n_bits, n_iter, n_pop, r_cross, r_mut)\n",
        "print('Done!')\n",
        "print('f(%s) = %f' % (best, score))"
      ]
    },
    {
      "cell_type": "markdown",
      "id": "8d40edd1-4d37-4197-9361-8e900989eb5b",
      "metadata": {
        "id": "8d40edd1-4d37-4197-9361-8e900989eb5b"
      },
      "source": [
        "## Continuous Function Optimization"
      ]
    },
    {
      "cell_type": "code",
      "execution_count": null,
      "id": "d5bf8e6a-ef56-48aa-b483-9c0fc90faee9",
      "metadata": {
        "id": "d5bf8e6a-ef56-48aa-b483-9c0fc90faee9",
        "outputId": "9d3f183f-95d7-4bd3-d78c-dbf41459184f",
        "colab": {
          "base_uri": "https://localhost:8080/"
        }
      },
      "outputs": [
        {
          "output_type": "stream",
          "name": "stdout",
          "text": [
            ">0, new best f([-1.472320556640625, 0.62469482421875]) = 2.557971\n",
            "0, new best [0, 1, 0, 1, 1, 0, 1, 0, 0, 1, 0, 0, 1, 1, 1, 1, 1, 0, 0, 0, 1, 1, 1, 1, 1, 1, 1, 1, 1, 1, 1, 0]\n",
            ">0, new best f([-0.549468994140625, -1.206817626953125]) = 1.758325\n",
            "0, new best [0, 1, 1, 1, 0, 0, 0, 1, 1, 1, 1, 0, 1, 1, 1, 1, 0, 1, 1, 0, 0, 0, 0, 1, 0, 0, 0, 1, 1, 0, 1, 1]\n",
            ">0, new best f([1.104583740234375, 0.22979736328125]) = 1.272912\n",
            "0, new best [1, 0, 0, 1, 1, 1, 0, 0, 0, 1, 0, 0, 0, 1, 1, 1, 1, 0, 0, 0, 0, 1, 0, 1, 1, 1, 1, 0, 0, 0, 1, 0]\n",
            ">2, new best f([-0.282745361328125, -0.961761474609375]) = 1.004930\n",
            "2, new best [0, 1, 1, 1, 1, 0, 0, 0, 1, 1, 0, 0, 0, 0, 1, 1, 0, 1, 1, 0, 0, 1, 1, 1, 0, 1, 1, 0, 0, 0, 0, 1]\n",
            ">2, new best f([-0.48309326171875, -0.619354248046875]) = 0.616979\n",
            "2, new best [0, 1, 1, 1, 0, 0, 1, 1, 1, 0, 1, 0, 0, 0, 1, 0, 0, 1, 1, 1, 0, 0, 0, 0, 0, 0, 1, 0, 0, 1, 0, 1]\n",
            ">3, new best f([-0.55145263671875, -0.137481689453125]) = 0.323001\n",
            "3, new best [0, 1, 1, 1, 0, 0, 0, 1, 1, 1, 1, 0, 0, 0, 1, 0, 0, 1, 1, 1, 1, 1, 0, 0, 0, 1, 1, 1, 1, 0, 1, 1]\n",
            ">3, new best f([-0.308074951171875, -0.197296142578125]) = 0.133836\n",
            "3, new best [0, 1, 1, 1, 1, 0, 0, 0, 0, 0, 0, 1, 1, 1, 0, 1, 0, 1, 1, 1, 1, 0, 1, 0, 1, 1, 1, 1, 0, 0, 1, 1]\n",
            ">4, new best f([-0.2227783203125, -0.149688720703125]) = 0.072037\n",
            "4, new best [0, 1, 1, 1, 1, 0, 1, 0, 0, 1, 0, 0, 1, 1, 0, 0, 0, 1, 1, 1, 1, 1, 0, 0, 0, 0, 1, 0, 1, 0, 1, 1]\n",
            ">5, new best f([-0.2227783203125, -0.1116943359375]) = 0.062106\n",
            "5, new best [0, 1, 1, 1, 1, 0, 1, 0, 0, 1, 0, 0, 1, 1, 0, 0, 0, 1, 1, 1, 1, 1, 0, 1, 0, 0, 1, 0, 0, 1, 0, 0]\n",
            ">6, new best f([0.003814697265625, -0.2069091796875]) = 0.042826\n",
            "6, new best [1, 0, 0, 0, 0, 0, 0, 0, 0, 0, 0, 1, 1, 0, 0, 1, 0, 1, 1, 1, 1, 0, 1, 0, 1, 0, 1, 1, 0, 1, 0, 0]\n",
            ">7, new best f([0.003662109375, -0.1116943359375]) = 0.012489\n",
            "7, new best [1, 0, 0, 0, 0, 0, 0, 0, 0, 0, 0, 1, 1, 0, 0, 0, 0, 1, 1, 1, 1, 1, 0, 1, 0, 0, 1, 0, 0, 1, 0, 0]\n",
            ">8, new best f([0.003662109375, -0.108795166015625]) = 0.011850\n",
            "8, new best [1, 0, 0, 0, 0, 0, 0, 0, 0, 0, 0, 1, 1, 0, 0, 0, 0, 1, 1, 1, 1, 1, 0, 1, 0, 0, 1, 1, 0, 1, 1, 1]\n",
            ">8, new best f([0.003662109375, -0.101776123046875]) = 0.010372\n",
            "8, new best [1, 0, 0, 0, 0, 0, 0, 0, 0, 0, 0, 1, 1, 0, 0, 0, 0, 1, 1, 1, 1, 1, 0, 1, 0, 1, 1, 0, 0, 1, 0, 1]\n",
            ">9, new best f([0.013580322265625, -0.1007080078125]) = 0.010327\n",
            "9, new best [1, 0, 0, 0, 0, 0, 0, 0, 0, 1, 0, 1, 1, 0, 0, 1, 0, 1, 1, 1, 1, 1, 0, 1, 0, 1, 1, 0, 1, 1, 0, 0]\n",
            ">9, new best f([0.003662109375, -0.089874267578125]) = 0.008091\n",
            "9, new best [1, 0, 0, 0, 0, 0, 0, 0, 0, 0, 0, 1, 1, 0, 0, 0, 0, 1, 1, 1, 1, 1, 0, 1, 1, 0, 1, 1, 0, 0, 1, 1]\n",
            ">10, new best f([0.013580322265625, -0.029296875]) = 0.001043\n",
            "10, new best [1, 0, 0, 0, 0, 0, 0, 0, 0, 1, 0, 1, 1, 0, 0, 1, 0, 1, 1, 1, 1, 1, 1, 1, 0, 1, 0, 0, 0, 0, 0, 0]\n",
            ">11, new best f([0.003662109375, -0.029296875]) = 0.000872\n",
            "11, new best [1, 0, 0, 0, 0, 0, 0, 0, 0, 0, 0, 1, 1, 0, 0, 0, 0, 1, 1, 1, 1, 1, 1, 1, 0, 1, 0, 0, 0, 0, 0, 0]\n",
            ">11, new best f([0.003662109375, -0.011749267578125]) = 0.000151\n",
            "11, new best [1, 0, 0, 0, 0, 0, 0, 0, 0, 0, 0, 1, 1, 0, 0, 0, 0, 1, 1, 1, 1, 1, 1, 1, 1, 0, 1, 1, 0, 0, 1, 1]\n",
            ">12, new best f([0.002899169921875, -0.01190185546875]) = 0.000150\n",
            "12, new best [1, 0, 0, 0, 0, 0, 0, 0, 0, 0, 0, 1, 0, 0, 1, 1, 0, 1, 1, 1, 1, 1, 1, 1, 1, 0, 1, 1, 0, 0, 1, 0]\n",
            ">13, new best f([0.002593994140625, -0.01190185546875]) = 0.000148\n",
            "13, new best [1, 0, 0, 0, 0, 0, 0, 0, 0, 0, 0, 1, 0, 0, 0, 1, 0, 1, 1, 1, 1, 1, 1, 1, 1, 0, 1, 1, 0, 0, 1, 0]\n",
            ">13, new best f([0.000457763671875, -0.01190185546875]) = 0.000142\n",
            "13, new best [1, 0, 0, 0, 0, 0, 0, 0, 0, 0, 0, 0, 0, 0, 1, 1, 0, 1, 1, 1, 1, 1, 1, 1, 1, 0, 1, 1, 0, 0, 1, 0]\n",
            ">14, new best f([0.003662109375, -0.00701904296875]) = 0.000063\n",
            "14, new best [1, 0, 0, 0, 0, 0, 0, 0, 0, 0, 0, 1, 1, 0, 0, 0, 0, 1, 1, 1, 1, 1, 1, 1, 1, 1, 0, 1, 0, 0, 1, 0]\n",
            ">14, new best f([0.001373291015625, -0.00701904296875]) = 0.000051\n",
            "14, new best [1, 0, 0, 0, 0, 0, 0, 0, 0, 0, 0, 0, 1, 0, 0, 1, 0, 1, 1, 1, 1, 1, 1, 1, 1, 1, 0, 1, 0, 0, 1, 0]\n",
            ">15, new best f([0.003662109375, -0.00457763671875]) = 0.000034\n",
            "15, new best [1, 0, 0, 0, 0, 0, 0, 0, 0, 0, 0, 1, 1, 0, 0, 0, 0, 1, 1, 1, 1, 1, 1, 1, 1, 1, 1, 0, 0, 0, 1, 0]\n",
            ">16, new best f([0.001220703125, -0.004119873046875]) = 0.000018\n",
            "16, new best [1, 0, 0, 0, 0, 0, 0, 0, 0, 0, 0, 0, 1, 0, 0, 0, 0, 1, 1, 1, 1, 1, 1, 1, 1, 1, 1, 0, 0, 1, 0, 1]\n",
            ">19, new best f([0.001983642578125, -0.002899169921875]) = 0.000012\n",
            "19, new best [1, 0, 0, 0, 0, 0, 0, 0, 0, 0, 0, 0, 1, 1, 0, 1, 0, 1, 1, 1, 1, 1, 1, 1, 1, 1, 1, 0, 1, 1, 0, 1]\n",
            ">21, new best f([0.0018310546875, -0.00244140625]) = 0.000009\n",
            "21, new best [1, 0, 0, 0, 0, 0, 0, 0, 0, 0, 0, 0, 1, 1, 0, 0, 0, 1, 1, 1, 1, 1, 1, 1, 1, 1, 1, 1, 0, 0, 0, 0]\n",
            ">21, new best f([0.0018310546875, -0.002288818359375]) = 0.000009\n",
            "21, new best [1, 0, 0, 0, 0, 0, 0, 0, 0, 0, 0, 0, 1, 1, 0, 0, 0, 1, 1, 1, 1, 1, 1, 1, 1, 1, 1, 1, 0, 0, 0, 1]\n",
            ">21, new best f([0.001983642578125, -0.000457763671875]) = 0.000004\n",
            "21, new best [1, 0, 0, 0, 0, 0, 0, 0, 0, 0, 0, 0, 1, 1, 0, 1, 0, 1, 1, 1, 1, 1, 1, 1, 1, 1, 1, 1, 1, 1, 0, 1]\n",
            ">22, new best f([0.001373291015625, -0.000457763671875]) = 0.000002\n",
            "22, new best [1, 0, 0, 0, 0, 0, 0, 0, 0, 0, 0, 0, 1, 0, 0, 1, 0, 1, 1, 1, 1, 1, 1, 1, 1, 1, 1, 1, 1, 1, 0, 1]\n",
            ">24, new best f([0.000762939453125, -0.000457763671875]) = 0.000001\n",
            "24, new best [1, 0, 0, 0, 0, 0, 0, 0, 0, 0, 0, 0, 0, 1, 0, 1, 0, 1, 1, 1, 1, 1, 1, 1, 1, 1, 1, 1, 1, 1, 0, 1]\n",
            "Done!\n",
            "f([0.000762939453125, -0.000457763671875]) = 0.000001\n"
          ]
        }
      ],
      "source": [
        "# genetic algorithm search for continuous function optimization\n",
        "from numpy.random import randint\n",
        "from numpy.random import rand\n",
        "\n",
        "# objective function\n",
        "def objective(x):\n",
        "    return x[0]**2.0 + x[1]**2.0\n",
        "\n",
        "# decode bitstring to numbers\n",
        "def decode(bounds, n_bits, bitstring):\n",
        "    decoded = list()\n",
        "    largest = 2**n_bits\n",
        "    for i in range(len(bounds)):\n",
        "        # extract the substring\n",
        "        start, end = i * n_bits, (i * n_bits)+n_bits\n",
        "        substring = bitstring[start:end]\n",
        "        # convert bitstring to a string of chars\n",
        "        chars = ''.join([str(s) for s in substring])\n",
        "        # convert string to integer\n",
        "        integer = int(chars, 2)\n",
        "        # scale integer to desired range\n",
        "        value = bounds[i][0] + (integer/largest) * (bounds[i][1] - bounds[i][0])\n",
        "        # store\n",
        "        decoded.append(value)\n",
        "    return decoded\n",
        "\n",
        "# tournament selection\n",
        "def selection(pop, scores, k=3):\n",
        "    # first random selection\n",
        "    selection_ix = randint(len(pop))\n",
        "    for ix in randint(0, len(pop), k-1):\n",
        "        # check if better (e.g. perform a tournament)\n",
        "        if scores[ix] < scores[selection_ix]:\n",
        "            selection_ix = ix\n",
        "    return pop[selection_ix]\n",
        "\n",
        "# crossover two parents to create two children\n",
        "def crossover(p1, p2, r_cross):\n",
        "    # children are copies of parents by default\n",
        "    c1, c2 = p1.copy(), p2.copy()\n",
        "    # check for recombination\n",
        "    if rand() < r_cross:\n",
        "        # select crossover point that is not on the end of the string\n",
        "        pt = randint(1, len(p1)-2)\n",
        "        # perform crossover\n",
        "        c1 = p1[:pt] + p2[pt:]\n",
        "        c2 = p2[:pt] + p1[pt:]\n",
        "    return [c1, c2]\n",
        "\n",
        "# mutation operator\n",
        "def mutation(bitstring, r_mut):\n",
        "    for i in range(len(bitstring)):\n",
        "        # check for a mutation\n",
        "        if rand() < r_mut:\n",
        "            # flip the bit\n",
        "            bitstring[i] = 1 - bitstring[i]\n",
        "\n",
        "# genetic algorithm\n",
        "def genetic_algorithm(objective, bounds, n_bits, n_iter, n_pop, r_cross, r_mut):\n",
        "    # initial population of random bitstring\n",
        "    pop = [randint(0, 2, n_bits*len(bounds)).tolist() for _ in range(n_pop)]\n",
        "    # keep track of best solution\n",
        "    best, best_eval = 0, objective(decode(bounds, n_bits, pop[0]))\n",
        "    # enumerate generations\n",
        "    for gen in range(n_iter):\n",
        "        # decode population\n",
        "        decoded = [decode(bounds, n_bits, p) for p in pop]\n",
        "        # evaluate all candidates in the population\n",
        "        scores = [objective(d) for d in decoded]\n",
        "        # check for new best solution\n",
        "        for i in range(n_pop):\n",
        "            if scores[i] < best_eval:\n",
        "                best, best_eval = pop[i], scores[i]\n",
        "                print(\">%d, new best f(%s) = %f\" % (gen,  decoded[i], scores[i]))\n",
        "                print(f\"{gen}, new best {pop[i]}\")\n",
        "        # select parents\n",
        "        selected = [selection(pop, scores) for _ in range(n_pop)]\n",
        "        # create the next generation\n",
        "        children = list()\n",
        "        for i in range(0, n_pop, 2):\n",
        "            # get selected parents in pairs\n",
        "            p1, p2 = selected[i], selected[i+1]\n",
        "            # crossover and mutation\n",
        "            for c in crossover(p1, p2, r_cross):\n",
        "                # mutation\n",
        "                mutation(c, r_mut)\n",
        "                # store for next generation\n",
        "                children.append(c)\n",
        "        # replace population\n",
        "        pop = children\n",
        "    return [best, best_eval, pop]\n",
        "\n",
        "# define range for input\n",
        "bounds = [[-5.0, 5.0], [-5.0, 5.0]]\n",
        "# define the total iterations\n",
        "n_iter = 25\n",
        "# bits per variable\n",
        "n_bits = 16\n",
        "# define the population size\n",
        "n_pop = 50\n",
        "# crossover rate\n",
        "r_cross = 0.9\n",
        "# mutation rate\n",
        "r_mut = 1.0 / (float(n_bits) * len(bounds))\n",
        "# perform the genetic algorithm search\n",
        "best, score, pop = genetic_algorithm(objective, bounds, n_bits, n_iter, n_pop, r_cross, r_mut)\n",
        "print('Done!')\n",
        "decoded = decode(bounds, n_bits, best)\n",
        "print('f(%s) = %f' % (decoded, score))"
      ]
    },
    {
      "cell_type": "markdown",
      "id": "28b2f715-9dee-483f-bb6a-1e7a4283c906",
      "metadata": {
        "id": "28b2f715-9dee-483f-bb6a-1e7a4283c906"
      },
      "source": [
        "## Matpower via `mypower` (distributed generator placement)"
      ]
    },
    {
      "cell_type": "markdown",
      "id": "b87f6835-fcd6-40a3-986a-c1a8a37d0606",
      "metadata": {
        "id": "b87f6835-fcd6-40a3-986a-c1a8a37d0606"
      },
      "source": [
        "Install mypower from `https://github.com/yasirroni/mypower`. Don't forget to leave a star."
      ]
    },
    {
      "cell_type": "code",
      "execution_count": null,
      "id": "a9549f82-566d-4635-9221-3beaf62a7e9a",
      "metadata": {
        "id": "a9549f82-566d-4635-9221-3beaf62a7e9a"
      },
      "outputs": [],
      "source": [
        "import mypower as myp\n",
        "from mypower.oc_api import oc_matpower\n",
        "import numpy as np"
      ]
    },
    {
      "cell_type": "code",
      "execution_count": null,
      "id": "4a8fad59-0a09-4c56-996b-74dd491a3cd6",
      "metadata": {
        "id": "4a8fad59-0a09-4c56-996b-74dd491a3cd6"
      },
      "outputs": [],
      "source": [
        "# initial\n",
        "oc = oc_matpower()\n",
        "case_name = 'case9'\n",
        "mypc = oc.eval(case_name, verbose=False)\n",
        "idx = myp.get_index()\n",
        "\n",
        "candidate_generator_capacity = np.array([10, 20, 40, 80])"
      ]
    },
    {
      "cell_type": "code",
      "execution_count": null,
      "id": "5dfa72d2-1443-4413-b985-780f91ff1fc6",
      "metadata": {
        "id": "5dfa72d2-1443-4413-b985-780f91ff1fc6",
        "outputId": "473f2193-9a84-4088-8c2e-cc8682eb9b3e"
      },
      "outputs": [
        {
          "data": {
            "text/plain": [
              "4.6410214744828835"
            ]
          },
          "execution_count": 6,
          "metadata": {},
          "output_type": "execute_result"
        }
      ],
      "source": [
        "# losses before distributed generator placements\n",
        "mypc = oc.runpf(mypc, verbose=False)\n",
        "losses = sum(np.abs(mypc.branch[:,idx['PF']] + mypc.branch[:,idx['PT']]))\n",
        "losses"
      ]
    },
    {
      "cell_type": "code",
      "execution_count": null,
      "id": "5eea415f-559a-462b-8221-4759f46db94c",
      "metadata": {
        "id": "5eea415f-559a-462b-8221-4759f46db94c",
        "outputId": "59cb6766-5c4f-479a-fcb7-13aa77ccb6ee"
      },
      "outputs": [
        {
          "name": "stdout",
          "output_type": "stream",
          "text": [
            ">0, new best f([0, 0, 0, 0, 1, 1, 1, 1, 1, 1, 1, 1]) = 5.527\n",
            ">0, new best f([0, 0, 1, 0, 1, 1, 1, 1, 1, 0, 1, 0]) = 4.802\n",
            ">2, new best f([1, 1, 1, 0, 1, 1, 0, 1, 1, 0, 1, 0]) = 4.525\n",
            ">2, new best f([0, 1, 0, 1, 1, 1, 1, 1, 1, 0, 1, 0]) = 4.453\n",
            ">3, new best f([0, 1, 1, 1, 1, 1, 1, 1, 1, 0, 1, 0]) = 4.388\n",
            ">4, new best f([0, 1, 0, 0, 1, 1, 1, 1, 1, 0, 1, 0]) = 4.328\n",
            ">8, new best f([0, 1, 1, 0, 1, 1, 1, 1, 1, 0, 1, 0]) = 4.316\n",
            "Done!\n",
            "f([0, 1, 1, 0, 1, 1, 1, 1, 1, 0, 1, 0]) = 4.315767\n",
            "Best location to install generator [10 20 40 80] is in [4 4 8 3]\n"
          ]
        }
      ],
      "source": [
        "# genetic algorithm search of the one max optimization problem\n",
        "import numpy as np\n",
        "from numpy.random import randint\n",
        "from numpy.random import rand\n",
        "import copy\n",
        "\n",
        "# objective function\n",
        "def generator_placement(x):\n",
        "    # binary to location\n",
        "    x_ = np.array(decode(x, n_bits_each)) + 1 # shift 1 bus to start from bus 2\n",
        "\n",
        "    # run powerflow\n",
        "    mypc_ = copy.deepcopy(mypc)\n",
        "    for i, x__ in enumerate(x_):\n",
        "        mypc_['bus'][x__,idx['PD']] = mypc_['bus'][x__,idx['PD']] - candidate_generator_capacity[i]\n",
        "\n",
        "    # check losses\n",
        "    mypc_ = oc.runpf(mypc_, verbose=False)\n",
        "    losses = sum(np.abs(mypc_.branch[:,idx['PF']] + mypc_.branch[:,idx['PT']]))\n",
        "\n",
        "    return losses\n",
        "\n",
        "def decode(bitstring, n_bits_each):\n",
        "    decoded = []\n",
        "    n_group = len(bitstring) // n_bits_each\n",
        "    for i in range(n_group):\n",
        "        # extract the substring\n",
        "        start, end = i * n_bits_each, (i * n_bits_each) + n_bits_each\n",
        "        substring = bitstring[start:end]\n",
        "        # convert bitstring to a string of chars\n",
        "        chars = ''.join([str(s) for s in substring])\n",
        "        # convert string to integer\n",
        "        integer = int(chars, 2)\n",
        "        # store\n",
        "        decoded.append(integer)\n",
        "    return decoded\n",
        "\n",
        "# tournament selection\n",
        "def selection(pop, scores, k=3):\n",
        "    # first random selection\n",
        "    selection_ix = randint(len(pop))\n",
        "    for ix in randint(0, len(pop), k-1):\n",
        "        # check if better (e.g. perform a tournament)\n",
        "        if scores[ix] < scores[selection_ix]:\n",
        "            selection_ix = ix\n",
        "    return pop[selection_ix]\n",
        "\n",
        "# crossover two parents to create two children\n",
        "def crossover(p1, p2, r_cross):\n",
        "    # children are copies of parents by default\n",
        "    c1, c2 = p1.copy(), p2.copy()\n",
        "    # check for recombination\n",
        "    if rand() < r_cross:\n",
        "        # select crossover point that is not on the end of the string\n",
        "        pt = randint(1, len(p1)-2)\n",
        "        # perform crossover\n",
        "        c1 = p1[:pt] + p2[pt:]\n",
        "        c2 = p2[:pt] + p1[pt:]\n",
        "    return [c1, c2]\n",
        "\n",
        "# mutation operator\n",
        "def mutation(bitstring, r_mut):\n",
        "    for i in range(len(bitstring)):\n",
        "        # check for a mutation\n",
        "        if rand() < r_mut:\n",
        "            # flip the bit\n",
        "            bitstring[i] = 1 - bitstring[i]\n",
        "\n",
        "# genetic algorithm\n",
        "def genetic_algorithm(objective, n_bits, n_iter, n_pop, r_cross, r_mut):\n",
        "    # initial population of random bitstring\n",
        "    pop = [randint(0, 2, n_bits).tolist() for _ in range(n_pop)] # random 0 or 1, length = n_bits, total n_pop set\n",
        "    # keep track of best solution\n",
        "    best, best_eval = 0, objective(pop[0]) # initial best, could be skipped and default value can be entered\n",
        "    # enumerate generations\n",
        "    for gen in range(n_iter): # main loop\n",
        "        # evaluate all candidates in the population\n",
        "        scores = [objective(c) for c in pop] # evaluation to be used for selection\n",
        "        # check for new best solution\n",
        "        for i in range(n_pop):\n",
        "            if scores[i] < best_eval:\n",
        "                best, best_eval = pop[i], scores[i]\n",
        "                print(\">%d, new best f(%s) = %.3f\" % (gen,  pop[i], scores[i]))\n",
        "        # select parents\n",
        "        selected = [selection(pop, scores) for _ in range(n_pop)] # in some approach, you can make previous best solution always survive to next gen\n",
        "        # create the next generation\n",
        "        children = list()\n",
        "        for i in range(0, n_pop, 2):\n",
        "            # get selected parents in pairs\n",
        "            p1, p2 = selected[i], selected[i+1]\n",
        "            # crossover and mutation\n",
        "            for c in crossover(p1, p2, r_cross):\n",
        "                # mutation\n",
        "                mutation(c, r_mut)\n",
        "                # store for next generation\n",
        "                children.append(c)\n",
        "        # replace population\n",
        "        pop = children\n",
        "    return [best, best_eval]\n",
        "\n",
        "# define the total iterations\n",
        "n_iter = 25\n",
        "# bits\n",
        "n_bits_each = 3\n",
        "n_bits_group = 4\n",
        "n_bits = n_bits_each * n_bits_group # 3 bits = 7 candidate bus, 4 bits group = 4 generator\n",
        "# define the population size\n",
        "n_pop = 50\n",
        "# crossover rate\n",
        "r_cross = 0.9\n",
        "# mutation rate\n",
        "r_mut = 1.0 / float(n_bits)\n",
        "# perform the genetic algorithm search\n",
        "best, score = genetic_algorithm(generator_placement, n_bits, n_iter, n_pop, r_cross, r_mut)\n",
        "print('Done!')\n",
        "print('f(%s) = %f' % (best, score))\n",
        "best_location = np.array(decode(best, n_bits_each))+1\n",
        "print(f'Best location to install generator {candidate_generator_capacity} is in {best_location}')"
      ]
    },
    {
      "cell_type": "markdown",
      "id": "32d8733d-166b-4ac3-bbd0-9350a68120fb",
      "metadata": {
        "id": "32d8733d-166b-4ac3-bbd0-9350a68120fb"
      },
      "source": [
        "## What you can do to customize genetic algorithm?"
      ]
    },
    {
      "cell_type": "markdown",
      "id": "e8fca746-f608-4fd9-ac9b-6bc09363bb1b",
      "metadata": {
        "id": "e8fca746-f608-4fd9-ac9b-6bc09363bb1b"
      },
      "source": [
        "1. Make some initial population deterministic on interesting points (e.g. highest possible value, lowest possible value)\n",
        "2. Warm start initial population using other fast deterministic method (e.g. naive method)\n",
        "3. Change crossover and mutation method into problem specific approach (make your problem become heuristic instead of meta-heuristic)\n",
        "4. Try to always save best solution, skipping selection method\n",
        "5. Add penalty, either constant, discrete, or continues function\n",
        "6. Make generation number very high, but use early termination\n",
        "7. Use meta approach to chose probability value for mutation, crossover, etc."
      ]
    },
    {
      "cell_type": "code",
      "execution_count": null,
      "id": "3ce5b592-6eb4-4870-856e-97c914b18cf4",
      "metadata": {
        "id": "3ce5b592-6eb4-4870-856e-97c914b18cf4"
      },
      "outputs": [],
      "source": []
    }
  ],
  "metadata": {
    "kernelspec": {
      "display_name": "Python 3",
      "language": "python",
      "name": "python3"
    },
    "language_info": {
      "codemirror_mode": {
        "name": "ipython",
        "version": 3
      },
      "file_extension": ".py",
      "mimetype": "text/x-python",
      "name": "python",
      "nbconvert_exporter": "python",
      "pygments_lexer": "ipython3",
      "version": "3.7.4"
    },
    "colab": {
      "provenance": []
    }
  },
  "nbformat": 4,
  "nbformat_minor": 5
}